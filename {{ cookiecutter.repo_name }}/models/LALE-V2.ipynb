{
 "cells": [
  {
   "cell_type": "code",
   "execution_count": 1,
   "id": "363b7c3a-fb00-46b5-8faf-d96882edf700",
   "metadata": {
    "tags": []
   },
   "outputs": [
    {
     "name": "stderr",
     "output_type": "stream",
     "text": [
      "2024-05-31 14:00:32.669494: I tensorflow/core/platform/cpu_feature_guard.cc:182] This TensorFlow binary is optimized to use available CPU instructions in performance-critical operations.\n",
      "To enable the following instructions: AVX2 FMA, in other operations, rebuild TensorFlow with the appropriate compiler flags.\n"
     ]
    },
    {
     "name": "stdout",
     "output_type": "stream",
     "text": [
      "INFO:tensorflow:Mixed precision compatibility check (mixed_float16): OK\n",
      "Your GPU will likely run quickly with dtype policy mixed_float16 as it has compute capability of at least 7.0. Your GPU: Tesla V100-SXM2-16GB, compute capability 7.0\n",
      "2.12.0\n"
     ]
    },
    {
     "name": "stderr",
     "output_type": "stream",
     "text": [
      "2024-05-31 14:00:40.437200: I tensorflow/compiler/xla/stream_executor/cuda/cuda_gpu_executor.cc:996] successful NUMA node read from SysFS had negative value (-1), but there must be at least one NUMA node, so returning NUMA node zero. See more at https://github.com/torvalds/linux/blob/v6.0/Documentation/ABI/testing/sysfs-bus-pci#L344-L355\n",
      "2024-05-31 14:00:40.472952: I tensorflow/compiler/xla/stream_executor/cuda/cuda_gpu_executor.cc:996] successful NUMA node read from SysFS had negative value (-1), but there must be at least one NUMA node, so returning NUMA node zero. See more at https://github.com/torvalds/linux/blob/v6.0/Documentation/ABI/testing/sysfs-bus-pci#L344-L355\n",
      "2024-05-31 14:00:40.473362: I tensorflow/compiler/xla/stream_executor/cuda/cuda_gpu_executor.cc:996] successful NUMA node read from SysFS had negative value (-1), but there must be at least one NUMA node, so returning NUMA node zero. See more at https://github.com/torvalds/linux/blob/v6.0/Documentation/ABI/testing/sysfs-bus-pci#L344-L355\n",
      "2024-05-31 14:00:40.474023: I tensorflow/compiler/xla/stream_executor/cuda/cuda_gpu_executor.cc:996] successful NUMA node read from SysFS had negative value (-1), but there must be at least one NUMA node, so returning NUMA node zero. See more at https://github.com/torvalds/linux/blob/v6.0/Documentation/ABI/testing/sysfs-bus-pci#L344-L355\n"
     ]
    }
   ],
   "source": [
    "import numpy as np # linear algebra\n",
    "import pandas as pd # data processing, CSV file I/O (e.g. pd.read_csv)\n",
    "\n",
    "# Input data files are available in the read-only \"../input/\" directory\n",
    "# For example, running this (by clicking run or pressing Shift+Enter) will list all files under the input directory\n",
    "\n",
    "import tensorflow as tf\n",
    "from tensorflow.keras.preprocessing.sequence import pad_sequences\n",
    "# from tokenizers import Tokenizer, models, pre_tokenizers, trainers, normalizers\n",
    "import pandas as pd\n",
    "\n",
    "from tensorflow.keras import mixed_precision as mixed_precision # Added 24052024\n",
    "from tensorflow.keras.regularizers import l2\n",
    "\n",
    "\n",
    "policy = mixed_precision.Policy('mixed_float16') # Added 24052024\n",
    "mixed_precision.set_global_policy(policy) # 24052024\n",
    "\n",
    "print(tf.__version__)"
   ]
  },
  {
   "cell_type": "code",
   "execution_count": 2,
   "id": "a2c8861d-d7da-4557-a945-5e263dbf96ea",
   "metadata": {
    "tags": []
   },
   "outputs": [
    {
     "name": "stdout",
     "output_type": "stream",
     "text": [
      "Collecting tokenizers\n",
      "  Using cached tokenizers-0.19.1-cp310-cp310-manylinux_2_17_x86_64.manylinux2014_x86_64.whl.metadata (6.7 kB)\n",
      "Collecting huggingface-hub<1.0,>=0.16.4 (from tokenizers)\n",
      "  Using cached huggingface_hub-0.23.2-py3-none-any.whl.metadata (12 kB)\n",
      "Requirement already satisfied: filelock in /opt/conda/lib/python3.10/site-packages (from huggingface-hub<1.0,>=0.16.4->tokenizers) (3.13.4)\n",
      "Requirement already satisfied: fsspec>=2023.5.0 in /opt/conda/lib/python3.10/site-packages (from huggingface-hub<1.0,>=0.16.4->tokenizers) (2024.3.1)\n",
      "Requirement already satisfied: packaging>=20.9 in /opt/conda/lib/python3.10/site-packages (from huggingface-hub<1.0,>=0.16.4->tokenizers) (24.0)\n",
      "Requirement already satisfied: pyyaml>=5.1 in /opt/conda/lib/python3.10/site-packages (from huggingface-hub<1.0,>=0.16.4->tokenizers) (6.0.1)\n",
      "Requirement already satisfied: requests in /opt/conda/lib/python3.10/site-packages (from huggingface-hub<1.0,>=0.16.4->tokenizers) (2.31.0)\n",
      "Requirement already satisfied: tqdm>=4.42.1 in /opt/conda/lib/python3.10/site-packages (from huggingface-hub<1.0,>=0.16.4->tokenizers) (4.66.2)\n",
      "Requirement already satisfied: typing-extensions>=3.7.4.3 in /opt/conda/lib/python3.10/site-packages (from huggingface-hub<1.0,>=0.16.4->tokenizers) (4.11.0)\n",
      "Requirement already satisfied: charset-normalizer<4,>=2 in /opt/conda/lib/python3.10/site-packages (from requests->huggingface-hub<1.0,>=0.16.4->tokenizers) (3.3.2)\n",
      "Requirement already satisfied: idna<4,>=2.5 in /opt/conda/lib/python3.10/site-packages (from requests->huggingface-hub<1.0,>=0.16.4->tokenizers) (3.7)\n",
      "Requirement already satisfied: urllib3<3,>=1.21.1 in /opt/conda/lib/python3.10/site-packages (from requests->huggingface-hub<1.0,>=0.16.4->tokenizers) (1.26.18)\n",
      "Requirement already satisfied: certifi>=2017.4.17 in /opt/conda/lib/python3.10/site-packages (from requests->huggingface-hub<1.0,>=0.16.4->tokenizers) (2024.2.2)\n",
      "Using cached tokenizers-0.19.1-cp310-cp310-manylinux_2_17_x86_64.manylinux2014_x86_64.whl (3.6 MB)\n",
      "Using cached huggingface_hub-0.23.2-py3-none-any.whl (401 kB)\n",
      "Installing collected packages: huggingface-hub, tokenizers\n",
      "Successfully installed huggingface-hub-0.23.2 tokenizers-0.19.1\n"
     ]
    }
   ],
   "source": [
    "!pip install tokenizers"
   ]
  },
  {
   "cell_type": "code",
   "execution_count": 3,
   "id": "80683a3b-7775-43d6-89d7-e3e9c51361aa",
   "metadata": {
    "tags": []
   },
   "outputs": [
    {
     "name": "stdout",
     "output_type": "stream",
     "text": [
      "Num GPUs Available:  1\n"
     ]
    }
   ],
   "source": [
    "print(\"Num GPUs Available: \", len(tf.config.experimental.list_physical_devices('GPU')))"
   ]
  },
  {
   "cell_type": "code",
   "execution_count": 4,
   "id": "0cb7b464-e4c6-4aa4-81d6-84c6cea6f8ac",
   "metadata": {
    "tags": []
   },
   "outputs": [
    {
     "name": "stdout",
     "output_type": "stream",
     "text": [
      "2024-05-31 14:00:49.096014\n"
     ]
    },
    {
     "data": {
      "text/html": [
       "<div>\n",
       "<style scoped>\n",
       "    .dataframe tbody tr th:only-of-type {\n",
       "        vertical-align: middle;\n",
       "    }\n",
       "\n",
       "    .dataframe tbody tr th {\n",
       "        vertical-align: top;\n",
       "    }\n",
       "\n",
       "    .dataframe thead th {\n",
       "        text-align: right;\n",
       "    }\n",
       "</style>\n",
       "<table border=\"1\" class=\"dataframe\">\n",
       "  <thead>\n",
       "    <tr style=\"text-align: right;\">\n",
       "      <th></th>\n",
       "      <th>essay_id</th>\n",
       "      <th>full_text</th>\n",
       "      <th>score</th>\n",
       "    </tr>\n",
       "  </thead>\n",
       "  <tbody>\n",
       "    <tr>\n",
       "      <th>0</th>\n",
       "      <td>000d118</td>\n",
       "      <td>Many people have car where they live. The thin...</td>\n",
       "      <td>3</td>\n",
       "    </tr>\n",
       "    <tr>\n",
       "      <th>1</th>\n",
       "      <td>000fe60</td>\n",
       "      <td>I am a scientist at NASA that is discussing th...</td>\n",
       "      <td>3</td>\n",
       "    </tr>\n",
       "    <tr>\n",
       "      <th>2</th>\n",
       "      <td>001ab80</td>\n",
       "      <td>People always wish they had the same technolog...</td>\n",
       "      <td>4</td>\n",
       "    </tr>\n",
       "    <tr>\n",
       "      <th>3</th>\n",
       "      <td>001bdc0</td>\n",
       "      <td>We all heard about Venus, the planet without a...</td>\n",
       "      <td>4</td>\n",
       "    </tr>\n",
       "    <tr>\n",
       "      <th>4</th>\n",
       "      <td>002ba53</td>\n",
       "      <td>Dear, State Senator\\n\\nThis is a letter to arg...</td>\n",
       "      <td>3</td>\n",
       "    </tr>\n",
       "  </tbody>\n",
       "</table>\n",
       "</div>"
      ],
      "text/plain": [
       "  essay_id                                          full_text  score\n",
       "0  000d118  Many people have car where they live. The thin...      3\n",
       "1  000fe60  I am a scientist at NASA that is discussing th...      3\n",
       "2  001ab80  People always wish they had the same technolog...      4\n",
       "3  001bdc0  We all heard about Venus, the planet without a...      4\n",
       "4  002ba53  Dear, State Senator\\n\\nThis is a letter to arg...      3"
      ]
     },
     "execution_count": 4,
     "metadata": {},
     "output_type": "execute_result"
    }
   ],
   "source": [
    "from datetime import datetime\n",
    "\n",
    "start = datetime.now()\n",
    "print(start)\n",
    "\n",
    "df_train = pd.read_csv('train.csv', delimiter =\",\", encoding='utf-8', encoding_errors=None)\n",
    "df_train.head()"
   ]
  },
  {
   "cell_type": "code",
   "execution_count": 5,
   "id": "a702a5a0-c466-4027-8b3c-3303dc4b853f",
   "metadata": {
    "tags": []
   },
   "outputs": [
    {
     "data": {
      "text/plain": [
       "17307"
      ]
     },
     "execution_count": 5,
     "metadata": {},
     "output_type": "execute_result"
    }
   ],
   "source": [
    "len(df_train)"
   ]
  },
  {
   "cell_type": "code",
   "execution_count": 6,
   "id": "1e2f1b01-a9ab-4ed2-9f17-01efbfdf3065",
   "metadata": {
    "tags": []
   },
   "outputs": [],
   "source": [
    "df_aug = df_train.copy(deep=True)\n",
    "df_aug['full_text'] = np.NaN"
   ]
  },
  {
   "cell_type": "code",
   "execution_count": 7,
   "id": "7f782ee0-46aa-4d05-aba0-ceba510e2fb9",
   "metadata": {
    "tags": []
   },
   "outputs": [
    {
     "name": "stdout",
     "output_type": "stream",
     "text": [
      "      essay_id  full_text  score\n",
      "0      000d118        NaN      3\n",
      "1      000fe60        NaN      3\n",
      "2      001ab80        NaN      4\n",
      "3      001bdc0        NaN      4\n",
      "4      002ba53        NaN      3\n",
      "...        ...        ...    ...\n",
      "17302  ffd378d        NaN      2\n",
      "17303  ffddf1f        NaN      4\n",
      "17304  fff016d        NaN      2\n",
      "17305  fffb49b        NaN      1\n",
      "17306  fffed3e        NaN      2\n",
      "\n",
      "[17307 rows x 3 columns]\n"
     ]
    }
   ],
   "source": [
    "print(df_aug)"
   ]
  },
  {
   "cell_type": "code",
   "execution_count": 8,
   "id": "d552a82b-b9d1-455f-a369-a96526edb3ee",
   "metadata": {
    "tags": []
   },
   "outputs": [
    {
     "name": "stdout",
     "output_type": "stream",
     "text": [
      "Collecting gensim\n",
      "  Using cached gensim-4.3.2-cp310-cp310-manylinux_2_17_x86_64.manylinux2014_x86_64.whl.metadata (8.4 kB)\n",
      "Requirement already satisfied: numpy>=1.18.5 in /opt/conda/lib/python3.10/site-packages (from gensim) (1.23.5)\n",
      "Requirement already satisfied: scipy>=1.7.0 in /opt/conda/lib/python3.10/site-packages (from gensim) (1.11.4)\n",
      "Requirement already satisfied: smart-open>=1.8.1 in ./.local/lib/python3.10/site-packages (from gensim) (6.4.0)\n",
      "Using cached gensim-4.3.2-cp310-cp310-manylinux_2_17_x86_64.manylinux2014_x86_64.whl (26.5 MB)\n",
      "Installing collected packages: gensim\n",
      "Successfully installed gensim-4.3.2\n"
     ]
    }
   ],
   "source": [
    "!pip install gensim"
   ]
  },
  {
   "cell_type": "code",
   "execution_count": 9,
   "id": "fb40e305-5488-413d-aab5-77779a03fa8c",
   "metadata": {
    "tags": []
   },
   "outputs": [
    {
     "name": "stdout",
     "output_type": "stream",
     "text": [
      "Loading word vectors\n",
      "\n",
      "Word vectors loaded\n",
      "\n",
      "Precomputing similar words\n",
      "\n",
      "Precompute complete\n",
      "\n",
      "Starting data augmentation now\n",
      "\n",
      "Augmentation start time is:  2024-05-31 14:01:02.026218\n",
      "\n",
      "Augmentation end time is:  2024-05-31 14:01:04.631104\n",
      "\n",
      "Data augmentation complete\n"
     ]
    }
   ],
   "source": [
    "import pandas as pd\n",
    "import numpy as np\n",
    "from gensim.models import KeyedVectors\n",
    "\n",
    "# Load pre-trained GloVe word vectors (you need to download the GloVe embeddings file beforehand)\n",
    "glove_file = 'glove.6B.300d.txt'\n",
    "\n",
    "print(\"Loading word vectors\\n\")\n",
    "word_vectors = KeyedVectors.load_word2vec_format(fname = glove_file, binary=False, unicode_errors='ignore', no_header=True, limit=400000) # limit increased 30/05/2024\n",
    "print(\"Word vectors loaded\\n\")\n",
    "\n",
    "from tqdm import tqdm\n",
    "\n",
    "print(\"Precomputing similar words\\n\")\n",
    "similar_words_dict = {}\n",
    "for word in word_vectors.index_to_key:\n",
    "    similar_words_dict[word] = word_vectors.most_similar(word, topn=1)[0][0]\n",
    "print(\"Precompute complete\\n\")    \n",
    "\n",
    "# Define text augmentation function using GloVe embeddings\n",
    "def augment_text_with_glove(text, similar_words_dict):\n",
    "    augmented_text = []\n",
    "    for word in text.split():\n",
    "        if word in similar_words_dict:                        \n",
    "            augmented_text.append(similar_words_dict[word])\n",
    "        else:\n",
    "            augmented_text.append(word)  # If the word is not in GloVe vocabulary, keep the original word\n",
    "    return ' '.join(augmented_text)\n",
    "\n",
    "print(\"Starting data augmentation now\\n\")\n",
    "aug_start = datetime.now()\n",
    "print(\"Augmentation start time is: \", aug_start)\n",
    "\n",
    "\n",
    "# Apply text augmentation to the DataFrame\n",
    "df_aug['full_text'] = df_train['full_text'].apply(lambda x: augment_text_with_glove(x, similar_words_dict))\n",
    "\n",
    "aug_end = datetime.now()\n",
    "print(\"\\nAugmentation end time is: \", aug_end)\n",
    "print(\"\\nData augmentation complete\")"
   ]
  },
  {
   "cell_type": "code",
   "execution_count": 10,
   "id": "4d90423e-79dc-418f-9a76-52633a79e45b",
   "metadata": {
    "tags": []
   },
   "outputs": [
    {
     "data": {
      "text/plain": [
       "34614"
      ]
     },
     "execution_count": 10,
     "metadata": {},
     "output_type": "execute_result"
    }
   ],
   "source": [
    "df_train_fin = pd.concat([df_train, df_aug], axis=0)\n",
    "len(df_train_fin)"
   ]
  },
  {
   "cell_type": "code",
   "execution_count": 11,
   "id": "ee9df9e9-929f-49de-9aea-26123115603a",
   "metadata": {
    "tags": []
   },
   "outputs": [],
   "source": [
    "df_train_fin['score'] = df_train_fin['score'] - 1"
   ]
  },
  {
   "cell_type": "code",
   "execution_count": 12,
   "id": "8dc3e1b2-5175-466a-b247-161f9591216e",
   "metadata": {
    "tags": []
   },
   "outputs": [
    {
     "data": {
      "text/plain": [
       "2161.1192003235683"
      ]
     },
     "execution_count": 12,
     "metadata": {},
     "output_type": "execute_result"
    }
   ],
   "source": [
    "df_train_fin['full_text'].map(len).mean()"
   ]
  },
  {
   "cell_type": "code",
   "execution_count": 13,
   "id": "c87b1a41-1992-467c-a787-b2ec93f00344",
   "metadata": {
    "tags": []
   },
   "outputs": [],
   "source": [
    "# !pip install --user spacy"
   ]
  },
  {
   "cell_type": "code",
   "execution_count": 14,
   "id": "83e77ad6-9478-43c8-a095-187320e9f309",
   "metadata": {
    "tags": []
   },
   "outputs": [],
   "source": [
    "# import spacy\n",
    "# # Load the English tokenizer, tagger, parser, NER, and word vectors\n",
    "# nlp = spacy.load(\"en_core_web_sm\")\n",
    "\n",
    "# # Function to apply lemmatization\n",
    "# def lemmatize_text(text):\n",
    "#     doc = nlp(text)\n",
    "#     return \" \".join([token.lemma_ for token in doc])"
   ]
  },
  {
   "cell_type": "code",
   "execution_count": null,
   "id": "ffac28bb-f057-4bc4-9f1b-6e484b38fbd3",
   "metadata": {},
   "outputs": [],
   "source": []
  },
  {
   "cell_type": "code",
   "execution_count": 15,
   "id": "7886dcb5-ab54-4c25-a943-b0c2f28ad0ee",
   "metadata": {
    "tags": []
   },
   "outputs": [
    {
     "name": "stdout",
     "output_type": "stream",
     "text": [
      "Train set indices: Index([ 3192,  8823, 12664, 16504, 15723,  2148,  8007, 12778,  9807,  3894,\n",
      "       ...\n",
      "        6321, 12451, 16183,  3397, 12600,  1648, 16623,  8339, 12384, 16059],\n",
      "      dtype='int64', length=31152)\n",
      "Test set indices: Index([13501,  5701, 15894, 10932,  9277,   670,  4056,  2064, 11066, 15971,\n",
      "       ...\n",
      "       10193, 11870,  7782, 17291, 16622,  6910, 14972, 13886,   757, 15115],\n",
      "      dtype='int64', length=3462)\n"
     ]
    }
   ],
   "source": [
    "from sklearn.model_selection import StratifiedShuffleSplit as sss\n",
    "\n",
    "splits = sss(n_splits=1, test_size=0.1, random_state=0)\n",
    "\n",
    "for train_index, test_index in splits.split(df_train_fin, df_train_fin['score']):\n",
    "    train_set = df_train_fin.iloc[train_index]\n",
    "    test_set = df_train_fin.iloc[test_index]\n",
    "\n",
    "print(\"Train set indices:\", train_set.index)\n",
    "print(\"Test set indices:\", test_set.index)"
   ]
  },
  {
   "cell_type": "code",
   "execution_count": 16,
   "id": "137abe4a-dd69-4bd9-ad09-a2b6cad178f3",
   "metadata": {
    "tags": []
   },
   "outputs": [
    {
     "data": {
      "text/plain": [
       "31152"
      ]
     },
     "execution_count": 16,
     "metadata": {},
     "output_type": "execute_result"
    }
   ],
   "source": [
    "len(train_set)"
   ]
  },
  {
   "cell_type": "code",
   "execution_count": 17,
   "id": "b39e4082-4e65-4718-ac1c-9b5f34cce910",
   "metadata": {
    "tags": []
   },
   "outputs": [],
   "source": [
    "texts = train_set['full_text'].tolist()\n",
    "labels = train_set['score'].tolist()"
   ]
  },
  {
   "cell_type": "code",
   "execution_count": 18,
   "id": "e3ca5c81-92cb-49f9-9108-cee724ed1ac9",
   "metadata": {
    "tags": []
   },
   "outputs": [],
   "source": [
    "val_texts = test_set['full_text'].tolist()\n",
    "val_labels = test_set['score'].tolist()"
   ]
  },
  {
   "cell_type": "code",
   "execution_count": 19,
   "id": "61243544-62d7-4f53-8034-4e3294ddb45c",
   "metadata": {
    "tags": []
   },
   "outputs": [
    {
     "name": "stdout",
     "output_type": "stream",
     "text": [
      "\n",
      "\n",
      "\n"
     ]
    }
   ],
   "source": [
    "from tokenizers import Tokenizer, models, pre_tokenizers, trainers, normalizers\n",
    "# Initialize and train a BPE tokenizer\n",
    "tokenizer = Tokenizer(models.BPE())\n",
    "tokenizer.normalizer = normalizers.Sequence([normalizers.NFKC(), normalizers.Lowercase()])\n",
    "tokenizer.pre_tokenizer = pre_tokenizers.Whitespace()\n",
    "trainer = trainers.BpeTrainer(vocab_size=400000, special_tokens=[\"[UNK]\", \"[CLS]\", \"[SEP]\", \"[PAD]\", \"[MASK]\"]) # vocab size increased 30/05/2024\n",
    "tokenizer.train_from_iterator(texts, trainer)\n",
    "tokenizer.save(\"tokenizer.json\")"
   ]
  },
  {
   "cell_type": "code",
   "execution_count": 20,
   "id": "6c82479c-79c6-4db5-964a-a02444645a63",
   "metadata": {
    "tags": []
   },
   "outputs": [],
   "source": [
    "# Load the trained tokenizer and tokenize the texts\n",
    "tokenizer = Tokenizer.from_file(\"tokenizer.json\")\n",
    "tokenized_texts = [tokenizer.encode(text).ids for text in texts]"
   ]
  },
  {
   "cell_type": "code",
   "execution_count": 21,
   "id": "485e80c6-1d30-416c-a9ca-60f1334cda4f",
   "metadata": {
    "tags": []
   },
   "outputs": [],
   "source": [
    "val_tokenized_texts = [tokenizer.encode(val_text).ids for val_text in val_texts]"
   ]
  },
  {
   "cell_type": "code",
   "execution_count": 22,
   "id": "3705a48b-ca15-4767-9210-9f8359871a98",
   "metadata": {
    "tags": []
   },
   "outputs": [],
   "source": [
    "# Pad the tokenized texts\n",
    "max_length = 3000\n",
    "padded_texts = pad_sequences(tokenized_texts, maxlen=max_length, padding='post')\n",
    "\n",
    "val_padded_texts = pad_sequences(val_tokenized_texts, maxlen=max_length, padding='post')"
   ]
  },
  {
   "cell_type": "code",
   "execution_count": 23,
   "id": "7dc6a17b-c3ef-46fc-a878-7a683260371c",
   "metadata": {
    "tags": []
   },
   "outputs": [
    {
     "name": "stderr",
     "output_type": "stream",
     "text": [
      "2024-05-31 14:01:58.499712: I tensorflow/compiler/xla/stream_executor/cuda/cuda_gpu_executor.cc:996] successful NUMA node read from SysFS had negative value (-1), but there must be at least one NUMA node, so returning NUMA node zero. See more at https://github.com/torvalds/linux/blob/v6.0/Documentation/ABI/testing/sysfs-bus-pci#L344-L355\n",
      "2024-05-31 14:01:58.500107: I tensorflow/compiler/xla/stream_executor/cuda/cuda_gpu_executor.cc:996] successful NUMA node read from SysFS had negative value (-1), but there must be at least one NUMA node, so returning NUMA node zero. See more at https://github.com/torvalds/linux/blob/v6.0/Documentation/ABI/testing/sysfs-bus-pci#L344-L355\n",
      "2024-05-31 14:01:58.500321: I tensorflow/compiler/xla/stream_executor/cuda/cuda_gpu_executor.cc:996] successful NUMA node read from SysFS had negative value (-1), but there must be at least one NUMA node, so returning NUMA node zero. See more at https://github.com/torvalds/linux/blob/v6.0/Documentation/ABI/testing/sysfs-bus-pci#L344-L355\n",
      "2024-05-31 14:01:59.388359: I tensorflow/compiler/xla/stream_executor/cuda/cuda_gpu_executor.cc:996] successful NUMA node read from SysFS had negative value (-1), but there must be at least one NUMA node, so returning NUMA node zero. See more at https://github.com/torvalds/linux/blob/v6.0/Documentation/ABI/testing/sysfs-bus-pci#L344-L355\n",
      "2024-05-31 14:01:59.388642: I tensorflow/compiler/xla/stream_executor/cuda/cuda_gpu_executor.cc:996] successful NUMA node read from SysFS had negative value (-1), but there must be at least one NUMA node, so returning NUMA node zero. See more at https://github.com/torvalds/linux/blob/v6.0/Documentation/ABI/testing/sysfs-bus-pci#L344-L355\n",
      "2024-05-31 14:01:59.388839: I tensorflow/compiler/xla/stream_executor/cuda/cuda_gpu_executor.cc:996] successful NUMA node read from SysFS had negative value (-1), but there must be at least one NUMA node, so returning NUMA node zero. See more at https://github.com/torvalds/linux/blob/v6.0/Documentation/ABI/testing/sysfs-bus-pci#L344-L355\n",
      "2024-05-31 14:01:59.389012: I tensorflow/core/common_runtime/gpu/gpu_device.cc:1635] Created device /job:localhost/replica:0/task:0/device:GPU:0 with 14792 MB memory:  -> device: 0, name: Tesla V100-SXM2-16GB, pci bus id: 0000:00:04.0, compute capability: 7.0\n"
     ]
    }
   ],
   "source": [
    "# Create a TensorFlow dataset\n",
    "dataset = tf.data.Dataset.from_tensor_slices((padded_texts, labels))\n",
    "dataset = dataset.shuffle(len(texts)).batch(256) # increased 28/05/2024\n",
    "\n",
    "val_dataset = tf.data.Dataset.from_tensor_slices((val_padded_texts, val_labels))\n",
    "val_dataset = val_dataset.shuffle(len(val_texts)).batch(256) # increased 28/05/2024"
   ]
  },
  {
   "cell_type": "code",
   "execution_count": 63,
   "id": "b452a3d3-cf0b-4921-855b-55e578f50025",
   "metadata": {
    "tags": []
   },
   "outputs": [
    {
     "name": "stderr",
     "output_type": "stream",
     "text": [
      "2024-05-31 15:47:29.587184: I tensorflow/core/common_runtime/executor.cc:1197] [/device:CPU:0] (DEBUG INFO) Executor start aborting (this does not indicate an error and you can ignore this message): INVALID_ARGUMENT: You must feed a value for placeholder tensor 'gradients/split_2_grad/concat/split_2/split_dim' with dtype int32\n",
      "\t [[{{node gradients/split_2_grad/concat/split_2/split_dim}}]]\n",
      "2024-05-31 15:47:29.590053: I tensorflow/core/common_runtime/executor.cc:1197] [/device:CPU:0] (DEBUG INFO) Executor start aborting (this does not indicate an error and you can ignore this message): INVALID_ARGUMENT: You must feed a value for placeholder tensor 'gradients/split_grad/concat/split/split_dim' with dtype int32\n",
      "\t [[{{node gradients/split_grad/concat/split/split_dim}}]]\n",
      "2024-05-31 15:47:29.591919: I tensorflow/core/common_runtime/executor.cc:1197] [/device:CPU:0] (DEBUG INFO) Executor start aborting (this does not indicate an error and you can ignore this message): INVALID_ARGUMENT: You must feed a value for placeholder tensor 'gradients/split_1_grad/concat/split_1/split_dim' with dtype int32\n",
      "\t [[{{node gradients/split_1_grad/concat/split_1/split_dim}}]]\n",
      "2024-05-31 15:47:29.775190: I tensorflow/core/common_runtime/executor.cc:1197] [/device:CPU:0] (DEBUG INFO) Executor start aborting (this does not indicate an error and you can ignore this message): INVALID_ARGUMENT: You must feed a value for placeholder tensor 'gradients/ReverseV2_grad/ReverseV2/ReverseV2/axis' with dtype int32 and shape [1]\n",
      "\t [[{{node gradients/ReverseV2_grad/ReverseV2/ReverseV2/axis}}]]\n",
      "2024-05-31 15:47:29.846142: I tensorflow/core/common_runtime/executor.cc:1197] [/device:CPU:0] (DEBUG INFO) Executor start aborting (this does not indicate an error and you can ignore this message): INVALID_ARGUMENT: You must feed a value for placeholder tensor 'gradients/split_2_grad/concat/split_2/split_dim' with dtype int32\n",
      "\t [[{{node gradients/split_2_grad/concat/split_2/split_dim}}]]\n",
      "2024-05-31 15:47:29.848850: I tensorflow/core/common_runtime/executor.cc:1197] [/device:CPU:0] (DEBUG INFO) Executor start aborting (this does not indicate an error and you can ignore this message): INVALID_ARGUMENT: You must feed a value for placeholder tensor 'gradients/split_grad/concat/split/split_dim' with dtype int32\n",
      "\t [[{{node gradients/split_grad/concat/split/split_dim}}]]\n",
      "2024-05-31 15:47:29.851233: I tensorflow/core/common_runtime/executor.cc:1197] [/device:CPU:0] (DEBUG INFO) Executor start aborting (this does not indicate an error and you can ignore this message): INVALID_ARGUMENT: You must feed a value for placeholder tensor 'gradients/split_1_grad/concat/split_1/split_dim' with dtype int32\n",
      "\t [[{{node gradients/split_1_grad/concat/split_1/split_dim}}]]\n",
      "2024-05-31 15:47:30.825569: I tensorflow/core/common_runtime/executor.cc:1197] [/device:CPU:0] (DEBUG INFO) Executor start aborting (this does not indicate an error and you can ignore this message): INVALID_ARGUMENT: You must feed a value for placeholder tensor 'gradients/split_2_grad/concat/split_2/split_dim' with dtype int32\n",
      "\t [[{{node gradients/split_2_grad/concat/split_2/split_dim}}]]\n",
      "2024-05-31 15:47:30.828076: I tensorflow/core/common_runtime/executor.cc:1197] [/device:CPU:0] (DEBUG INFO) Executor start aborting (this does not indicate an error and you can ignore this message): INVALID_ARGUMENT: You must feed a value for placeholder tensor 'gradients/split_grad/concat/split/split_dim' with dtype int32\n",
      "\t [[{{node gradients/split_grad/concat/split/split_dim}}]]\n",
      "2024-05-31 15:47:30.830289: I tensorflow/core/common_runtime/executor.cc:1197] [/device:CPU:0] (DEBUG INFO) Executor start aborting (this does not indicate an error and you can ignore this message): INVALID_ARGUMENT: You must feed a value for placeholder tensor 'gradients/split_1_grad/concat/split_1/split_dim' with dtype int32\n",
      "\t [[{{node gradients/split_1_grad/concat/split_1/split_dim}}]]\n"
     ]
    },
    {
     "name": "stdout",
     "output_type": "stream",
     "text": [
      "Model: \"sequential\"\n",
      "_________________________________________________________________\n",
      " Layer (type)                Output Shape              Param #   \n",
      "=================================================================\n",
      " embedding (Embedding)       (None, 3000, 128)         51200000  \n",
      "                                                                 \n",
      " conv1d (Conv1D)             (None, 2996, 128)         82048     \n",
      "                                                                 \n",
      " dropout (Dropout)           (None, 2996, 128)         0         \n",
      "                                                                 \n",
      " dense (Dense)               (None, 2996, 64)          8256      \n",
      "                                                                 \n",
      " dropout_1 (Dropout)         (None, 2996, 64)          0         \n",
      "                                                                 \n",
      " dense_1 (Dense)             (None, 2996, 64)          4160      \n",
      "                                                                 \n",
      " dropout_2 (Dropout)         (None, 2996, 64)          0         \n",
      "                                                                 \n",
      " bidirectional (Bidirectiona  (None, 2996, 64)         24832     \n",
      " l)                                                              \n",
      "                                                                 \n",
      " bidirectional_1 (Bidirectio  (None, 2996, 64)         24832     \n",
      " nal)                                                            \n",
      "                                                                 \n",
      " global_max_pooling1d (Globa  (None, 64)               0         \n",
      " lMaxPooling1D)                                                  \n",
      "                                                                 \n",
      " dense_2 (Dense)             (None, 6)                 390       \n",
      "                                                                 \n",
      "=================================================================\n",
      "Total params: 51,344,518\n",
      "Trainable params: 51,344,518\n",
      "Non-trainable params: 0\n",
      "_________________________________________________________________\n",
      "None\n"
     ]
    },
    {
     "name": "stderr",
     "output_type": "stream",
     "text": [
      "2024-05-31 15:47:31.033954: I tensorflow/core/common_runtime/executor.cc:1197] [/device:CPU:0] (DEBUG INFO) Executor start aborting (this does not indicate an error and you can ignore this message): INVALID_ARGUMENT: You must feed a value for placeholder tensor 'gradients/ReverseV2_grad/ReverseV2/ReverseV2/axis' with dtype int32 and shape [1]\n",
      "\t [[{{node gradients/ReverseV2_grad/ReverseV2/ReverseV2/axis}}]]\n",
      "2024-05-31 15:47:31.104842: I tensorflow/core/common_runtime/executor.cc:1197] [/device:CPU:0] (DEBUG INFO) Executor start aborting (this does not indicate an error and you can ignore this message): INVALID_ARGUMENT: You must feed a value for placeholder tensor 'gradients/split_2_grad/concat/split_2/split_dim' with dtype int32\n",
      "\t [[{{node gradients/split_2_grad/concat/split_2/split_dim}}]]\n",
      "2024-05-31 15:47:31.106807: I tensorflow/core/common_runtime/executor.cc:1197] [/device:CPU:0] (DEBUG INFO) Executor start aborting (this does not indicate an error and you can ignore this message): INVALID_ARGUMENT: You must feed a value for placeholder tensor 'gradients/split_grad/concat/split/split_dim' with dtype int32\n",
      "\t [[{{node gradients/split_grad/concat/split/split_dim}}]]\n",
      "2024-05-31 15:47:31.108716: I tensorflow/core/common_runtime/executor.cc:1197] [/device:CPU:0] (DEBUG INFO) Executor start aborting (this does not indicate an error and you can ignore this message): INVALID_ARGUMENT: You must feed a value for placeholder tensor 'gradients/split_1_grad/concat/split_1/split_dim' with dtype int32\n",
      "\t [[{{node gradients/split_1_grad/concat/split_1/split_dim}}]]\n"
     ]
    }
   ],
   "source": [
    "tf.keras.backend.clear_session()\n",
    "\n",
    "model = tf.keras.Sequential([\n",
    "tf.keras.layers.Input(shape=(max_length,)),\n",
    "tf.keras.layers.Embedding(input_dim=400000, output_dim=128), # input dim increased 30/05/2024\n",
    "tf.keras.layers.Conv1D(128, 5, activation='relu'),\n",
    "tf.keras.layers.Dropout(0.4),\n",
    "tf.keras.layers.Dense(64, activation='relu', kernel_regularizer=l2(0.01)),\n",
    "tf.keras.layers.Dropout(0.4),\n",
    "tf.keras.layers.Dense(64, activation='relu', kernel_regularizer=l2(0.01)), # added 28/05/2024\n",
    "tf.keras.layers.Dropout(0.4), # added 28/05/2024\n",
    "tf.keras.layers.Bidirectional(tf.keras.layers.LSTM(32, return_sequences=True)),\n",
    "tf.keras.layers.Bidirectional(tf.keras.layers.LSTM(32, return_sequences=True)),    \n",
    "tf.keras.layers.GlobalMaxPooling1D(),\n",
    "tf.keras.layers.Dense(6, activation='softmax')\n",
    "])\n",
    "\n",
    "# Compile the model\n",
    "model.compile(optimizer='adam', loss='sparse_categorical_crossentropy', metrics=['accuracy'])\n",
    "\n",
    "print(model.summary())\n",
    "\n",
    "\n",
    "from tensorflow.keras.callbacks import ModelCheckpoint\n",
    "\n",
    "checkpoint_callback = ModelCheckpoint(\n",
    "    filepath = 'best_model.h5',\n",
    "    monitor = 'val_accuracy',\n",
    "    save_best_only = True,\n",
    "    mode = 'max',\n",
    "    verbose=1)"
   ]
  },
  {
   "cell_type": "code",
   "execution_count": null,
   "id": "dbfa830a-c452-47c0-b427-0cf25717ff8c",
   "metadata": {
    "tags": []
   },
   "outputs": [
    {
     "name": "stdout",
     "output_type": "stream",
     "text": [
      "Epoch 1/40\n"
     ]
    },
    {
     "name": "stderr",
     "output_type": "stream",
     "text": [
      "2024-05-31 15:47:42.229315: I tensorflow/core/common_runtime/executor.cc:1197] [/device:CPU:0] (DEBUG INFO) Executor start aborting (this does not indicate an error and you can ignore this message): INVALID_ARGUMENT: You must feed a value for placeholder tensor 'gradients/split_2_grad/concat/split_2/split_dim' with dtype int32\n",
      "\t [[{{node gradients/split_2_grad/concat/split_2/split_dim}}]]\n",
      "2024-05-31 15:47:42.232119: I tensorflow/core/common_runtime/executor.cc:1197] [/device:CPU:0] (DEBUG INFO) Executor start aborting (this does not indicate an error and you can ignore this message): INVALID_ARGUMENT: You must feed a value for placeholder tensor 'gradients/split_grad/concat/split/split_dim' with dtype int32\n",
      "\t [[{{node gradients/split_grad/concat/split/split_dim}}]]\n",
      "2024-05-31 15:47:42.234727: I tensorflow/core/common_runtime/executor.cc:1197] [/device:CPU:0] (DEBUG INFO) Executor start aborting (this does not indicate an error and you can ignore this message): INVALID_ARGUMENT: You must feed a value for placeholder tensor 'gradients/split_1_grad/concat/split_1/split_dim' with dtype int32\n",
      "\t [[{{node gradients/split_1_grad/concat/split_1/split_dim}}]]\n",
      "2024-05-31 15:47:42.441071: I tensorflow/core/common_runtime/executor.cc:1197] [/device:CPU:0] (DEBUG INFO) Executor start aborting (this does not indicate an error and you can ignore this message): INVALID_ARGUMENT: You must feed a value for placeholder tensor 'gradients/ReverseV2_grad/ReverseV2/ReverseV2/axis' with dtype int32 and shape [1]\n",
      "\t [[{{node gradients/ReverseV2_grad/ReverseV2/ReverseV2/axis}}]]\n",
      "2024-05-31 15:47:42.519145: I tensorflow/core/common_runtime/executor.cc:1197] [/device:CPU:0] (DEBUG INFO) Executor start aborting (this does not indicate an error and you can ignore this message): INVALID_ARGUMENT: You must feed a value for placeholder tensor 'gradients/split_2_grad/concat/split_2/split_dim' with dtype int32\n",
      "\t [[{{node gradients/split_2_grad/concat/split_2/split_dim}}]]\n",
      "2024-05-31 15:47:42.521401: I tensorflow/core/common_runtime/executor.cc:1197] [/device:CPU:0] (DEBUG INFO) Executor start aborting (this does not indicate an error and you can ignore this message): INVALID_ARGUMENT: You must feed a value for placeholder tensor 'gradients/split_grad/concat/split/split_dim' with dtype int32\n",
      "\t [[{{node gradients/split_grad/concat/split/split_dim}}]]\n",
      "2024-05-31 15:47:42.523870: I tensorflow/core/common_runtime/executor.cc:1197] [/device:CPU:0] (DEBUG INFO) Executor start aborting (this does not indicate an error and you can ignore this message): INVALID_ARGUMENT: You must feed a value for placeholder tensor 'gradients/split_1_grad/concat/split_1/split_dim' with dtype int32\n",
      "\t [[{{node gradients/split_1_grad/concat/split_1/split_dim}}]]\n",
      "2024-05-31 15:47:42.795502: I tensorflow/core/common_runtime/executor.cc:1197] [/device:CPU:0] (DEBUG INFO) Executor start aborting (this does not indicate an error and you can ignore this message): INVALID_ARGUMENT: You must feed a value for placeholder tensor 'gradients/split_2_grad/concat/split_2/split_dim' with dtype int32\n",
      "\t [[{{node gradients/split_2_grad/concat/split_2/split_dim}}]]\n",
      "2024-05-31 15:47:42.798300: I tensorflow/core/common_runtime/executor.cc:1197] [/device:CPU:0] (DEBUG INFO) Executor start aborting (this does not indicate an error and you can ignore this message): INVALID_ARGUMENT: You must feed a value for placeholder tensor 'gradients/split_grad/concat/split/split_dim' with dtype int32\n",
      "\t [[{{node gradients/split_grad/concat/split/split_dim}}]]\n",
      "2024-05-31 15:47:42.800867: I tensorflow/core/common_runtime/executor.cc:1197] [/device:CPU:0] (DEBUG INFO) Executor start aborting (this does not indicate an error and you can ignore this message): INVALID_ARGUMENT: You must feed a value for placeholder tensor 'gradients/split_1_grad/concat/split_1/split_dim' with dtype int32\n",
      "\t [[{{node gradients/split_1_grad/concat/split_1/split_dim}}]]\n",
      "2024-05-31 15:47:43.007636: I tensorflow/core/common_runtime/executor.cc:1197] [/device:CPU:0] (DEBUG INFO) Executor start aborting (this does not indicate an error and you can ignore this message): INVALID_ARGUMENT: You must feed a value for placeholder tensor 'gradients/ReverseV2_grad/ReverseV2/ReverseV2/axis' with dtype int32 and shape [1]\n",
      "\t [[{{node gradients/ReverseV2_grad/ReverseV2/ReverseV2/axis}}]]\n",
      "2024-05-31 15:47:43.078842: I tensorflow/core/common_runtime/executor.cc:1197] [/device:CPU:0] (DEBUG INFO) Executor start aborting (this does not indicate an error and you can ignore this message): INVALID_ARGUMENT: You must feed a value for placeholder tensor 'gradients/split_2_grad/concat/split_2/split_dim' with dtype int32\n",
      "\t [[{{node gradients/split_2_grad/concat/split_2/split_dim}}]]\n",
      "2024-05-31 15:47:43.081126: I tensorflow/core/common_runtime/executor.cc:1197] [/device:CPU:0] (DEBUG INFO) Executor start aborting (this does not indicate an error and you can ignore this message): INVALID_ARGUMENT: You must feed a value for placeholder tensor 'gradients/split_grad/concat/split/split_dim' with dtype int32\n",
      "\t [[{{node gradients/split_grad/concat/split/split_dim}}]]\n",
      "2024-05-31 15:47:43.083391: I tensorflow/core/common_runtime/executor.cc:1197] [/device:CPU:0] (DEBUG INFO) Executor start aborting (this does not indicate an error and you can ignore this message): INVALID_ARGUMENT: You must feed a value for placeholder tensor 'gradients/split_1_grad/concat/split_1/split_dim' with dtype int32\n",
      "\t [[{{node gradients/split_1_grad/concat/split_1/split_dim}}]]\n",
      "2024-05-31 15:47:43.766725: I tensorflow/core/common_runtime/executor.cc:1197] [/device:CPU:0] (DEBUG INFO) Executor start aborting (this does not indicate an error and you can ignore this message): INVALID_ARGUMENT: You must feed a value for placeholder tensor 'gradients/ReverseV2_grad/ReverseV2/ReverseV2/axis' with dtype int32 and shape [1]\n",
      "\t [[{{node gradients/ReverseV2_grad/ReverseV2/ReverseV2/axis}}]]\n",
      "2024-05-31 15:47:44.348443: I tensorflow/core/common_runtime/executor.cc:1197] [/device:CPU:0] (DEBUG INFO) Executor start aborting (this does not indicate an error and you can ignore this message): INVALID_ARGUMENT: You must feed a value for placeholder tensor 'gradients/ReverseV2_grad/ReverseV2/ReverseV2/axis' with dtype int32 and shape [1]\n",
      "\t [[{{node gradients/ReverseV2_grad/ReverseV2/ReverseV2/axis}}]]\n",
      "2024-05-31 15:47:46.005114: I tensorflow/core/common_runtime/executor.cc:1197] [/device:CPU:0] (DEBUG INFO) Executor start aborting (this does not indicate an error and you can ignore this message): INVALID_ARGUMENT: You must feed a value for placeholder tensor 'gradients/split_2_grad/concat/split_2/split_dim' with dtype int32\n",
      "\t [[{{node gradients/split_2_grad/concat/split_2/split_dim}}]]\n",
      "2024-05-31 15:47:46.008135: I tensorflow/core/common_runtime/executor.cc:1197] [/device:CPU:0] (DEBUG INFO) Executor start aborting (this does not indicate an error and you can ignore this message): INVALID_ARGUMENT: You must feed a value for placeholder tensor 'gradients/split_grad/concat/split/split_dim' with dtype int32\n",
      "\t [[{{node gradients/split_grad/concat/split/split_dim}}]]\n",
      "2024-05-31 15:47:46.010659: I tensorflow/core/common_runtime/executor.cc:1197] [/device:CPU:0] (DEBUG INFO) Executor start aborting (this does not indicate an error and you can ignore this message): INVALID_ARGUMENT: You must feed a value for placeholder tensor 'gradients/split_1_grad/concat/split_1/split_dim' with dtype int32\n",
      "\t [[{{node gradients/split_1_grad/concat/split_1/split_dim}}]]\n",
      "2024-05-31 15:47:46.227494: I tensorflow/core/common_runtime/executor.cc:1197] [/device:CPU:0] (DEBUG INFO) Executor start aborting (this does not indicate an error and you can ignore this message): INVALID_ARGUMENT: You must feed a value for placeholder tensor 'gradients/ReverseV2_grad/ReverseV2/ReverseV2/axis' with dtype int32 and shape [1]\n",
      "\t [[{{node gradients/ReverseV2_grad/ReverseV2/ReverseV2/axis}}]]\n",
      "2024-05-31 15:47:46.303008: I tensorflow/core/common_runtime/executor.cc:1197] [/device:CPU:0] (DEBUG INFO) Executor start aborting (this does not indicate an error and you can ignore this message): INVALID_ARGUMENT: You must feed a value for placeholder tensor 'gradients/split_2_grad/concat/split_2/split_dim' with dtype int32\n",
      "\t [[{{node gradients/split_2_grad/concat/split_2/split_dim}}]]\n",
      "2024-05-31 15:47:46.305155: I tensorflow/core/common_runtime/executor.cc:1197] [/device:CPU:0] (DEBUG INFO) Executor start aborting (this does not indicate an error and you can ignore this message): INVALID_ARGUMENT: You must feed a value for placeholder tensor 'gradients/split_grad/concat/split/split_dim' with dtype int32\n",
      "\t [[{{node gradients/split_grad/concat/split/split_dim}}]]\n",
      "2024-05-31 15:47:46.307125: I tensorflow/core/common_runtime/executor.cc:1197] [/device:CPU:0] (DEBUG INFO) Executor start aborting (this does not indicate an error and you can ignore this message): INVALID_ARGUMENT: You must feed a value for placeholder tensor 'gradients/split_1_grad/concat/split_1/split_dim' with dtype int32\n",
      "\t [[{{node gradients/split_1_grad/concat/split_1/split_dim}}]]\n",
      "2024-05-31 15:47:46.581778: I tensorflow/core/common_runtime/executor.cc:1197] [/device:CPU:0] (DEBUG INFO) Executor start aborting (this does not indicate an error and you can ignore this message): INVALID_ARGUMENT: You must feed a value for placeholder tensor 'gradients/split_2_grad/concat/split_2/split_dim' with dtype int32\n",
      "\t [[{{node gradients/split_2_grad/concat/split_2/split_dim}}]]\n",
      "2024-05-31 15:47:46.584423: I tensorflow/core/common_runtime/executor.cc:1197] [/device:CPU:0] (DEBUG INFO) Executor start aborting (this does not indicate an error and you can ignore this message): INVALID_ARGUMENT: You must feed a value for placeholder tensor 'gradients/split_grad/concat/split/split_dim' with dtype int32\n",
      "\t [[{{node gradients/split_grad/concat/split/split_dim}}]]\n",
      "2024-05-31 15:47:46.586443: I tensorflow/core/common_runtime/executor.cc:1197] [/device:CPU:0] (DEBUG INFO) Executor start aborting (this does not indicate an error and you can ignore this message): INVALID_ARGUMENT: You must feed a value for placeholder tensor 'gradients/split_1_grad/concat/split_1/split_dim' with dtype int32\n",
      "\t [[{{node gradients/split_1_grad/concat/split_1/split_dim}}]]\n",
      "2024-05-31 15:47:46.782594: I tensorflow/core/common_runtime/executor.cc:1197] [/device:CPU:0] (DEBUG INFO) Executor start aborting (this does not indicate an error and you can ignore this message): INVALID_ARGUMENT: You must feed a value for placeholder tensor 'gradients/ReverseV2_grad/ReverseV2/ReverseV2/axis' with dtype int32 and shape [1]\n",
      "\t [[{{node gradients/ReverseV2_grad/ReverseV2/ReverseV2/axis}}]]\n",
      "2024-05-31 15:47:46.862706: I tensorflow/core/common_runtime/executor.cc:1197] [/device:CPU:0] (DEBUG INFO) Executor start aborting (this does not indicate an error and you can ignore this message): INVALID_ARGUMENT: You must feed a value for placeholder tensor 'gradients/split_2_grad/concat/split_2/split_dim' with dtype int32\n",
      "\t [[{{node gradients/split_2_grad/concat/split_2/split_dim}}]]\n",
      "2024-05-31 15:47:46.865644: I tensorflow/core/common_runtime/executor.cc:1197] [/device:CPU:0] (DEBUG INFO) Executor start aborting (this does not indicate an error and you can ignore this message): INVALID_ARGUMENT: You must feed a value for placeholder tensor 'gradients/split_grad/concat/split/split_dim' with dtype int32\n",
      "\t [[{{node gradients/split_grad/concat/split/split_dim}}]]\n",
      "2024-05-31 15:47:46.867748: I tensorflow/core/common_runtime/executor.cc:1197] [/device:CPU:0] (DEBUG INFO) Executor start aborting (this does not indicate an error and you can ignore this message): INVALID_ARGUMENT: You must feed a value for placeholder tensor 'gradients/split_1_grad/concat/split_1/split_dim' with dtype int32\n",
      "\t [[{{node gradients/split_1_grad/concat/split_1/split_dim}}]]\n",
      "2024-05-31 15:47:47.557451: I tensorflow/core/common_runtime/executor.cc:1197] [/device:CPU:0] (DEBUG INFO) Executor start aborting (this does not indicate an error and you can ignore this message): INVALID_ARGUMENT: You must feed a value for placeholder tensor 'gradients/ReverseV2_grad/ReverseV2/ReverseV2/axis' with dtype int32 and shape [1]\n",
      "\t [[{{node gradients/ReverseV2_grad/ReverseV2/ReverseV2/axis}}]]\n",
      "2024-05-31 15:47:48.138879: I tensorflow/core/common_runtime/executor.cc:1197] [/device:CPU:0] (DEBUG INFO) Executor start aborting (this does not indicate an error and you can ignore this message): INVALID_ARGUMENT: You must feed a value for placeholder tensor 'gradients/ReverseV2_grad/ReverseV2/ReverseV2/axis' with dtype int32 and shape [1]\n",
      "\t [[{{node gradients/ReverseV2_grad/ReverseV2/ReverseV2/axis}}]]\n"
     ]
    },
    {
     "name": "stdout",
     "output_type": "stream",
     "text": [
      "122/122 [==============================] - ETA: 0s - loss: 2.1036 - accuracy: 0.3601"
     ]
    },
    {
     "name": "stderr",
     "output_type": "stream",
     "text": [
      "2024-05-31 15:48:48.501594: I tensorflow/core/common_runtime/executor.cc:1197] [/device:CPU:0] (DEBUG INFO) Executor start aborting (this does not indicate an error and you can ignore this message): INVALID_ARGUMENT: You must feed a value for placeholder tensor 'gradients/split_2_grad/concat/split_2/split_dim' with dtype int32\n",
      "\t [[{{node gradients/split_2_grad/concat/split_2/split_dim}}]]\n",
      "2024-05-31 15:48:48.504086: I tensorflow/core/common_runtime/executor.cc:1197] [/device:CPU:0] (DEBUG INFO) Executor start aborting (this does not indicate an error and you can ignore this message): INVALID_ARGUMENT: You must feed a value for placeholder tensor 'gradients/split_grad/concat/split/split_dim' with dtype int32\n",
      "\t [[{{node gradients/split_grad/concat/split/split_dim}}]]\n",
      "2024-05-31 15:48:48.505933: I tensorflow/core/common_runtime/executor.cc:1197] [/device:CPU:0] (DEBUG INFO) Executor start aborting (this does not indicate an error and you can ignore this message): INVALID_ARGUMENT: You must feed a value for placeholder tensor 'gradients/split_1_grad/concat/split_1/split_dim' with dtype int32\n",
      "\t [[{{node gradients/split_1_grad/concat/split_1/split_dim}}]]\n",
      "2024-05-31 15:48:48.707972: I tensorflow/core/common_runtime/executor.cc:1197] [/device:CPU:0] (DEBUG INFO) Executor start aborting (this does not indicate an error and you can ignore this message): INVALID_ARGUMENT: You must feed a value for placeholder tensor 'gradients/ReverseV2_grad/ReverseV2/ReverseV2/axis' with dtype int32 and shape [1]\n",
      "\t [[{{node gradients/ReverseV2_grad/ReverseV2/ReverseV2/axis}}]]\n",
      "2024-05-31 15:48:48.778228: I tensorflow/core/common_runtime/executor.cc:1197] [/device:CPU:0] (DEBUG INFO) Executor start aborting (this does not indicate an error and you can ignore this message): INVALID_ARGUMENT: You must feed a value for placeholder tensor 'gradients/split_2_grad/concat/split_2/split_dim' with dtype int32\n",
      "\t [[{{node gradients/split_2_grad/concat/split_2/split_dim}}]]\n",
      "2024-05-31 15:48:48.780726: I tensorflow/core/common_runtime/executor.cc:1197] [/device:CPU:0] (DEBUG INFO) Executor start aborting (this does not indicate an error and you can ignore this message): INVALID_ARGUMENT: You must feed a value for placeholder tensor 'gradients/split_grad/concat/split/split_dim' with dtype int32\n",
      "\t [[{{node gradients/split_grad/concat/split/split_dim}}]]\n",
      "2024-05-31 15:48:48.782818: I tensorflow/core/common_runtime/executor.cc:1197] [/device:CPU:0] (DEBUG INFO) Executor start aborting (this does not indicate an error and you can ignore this message): INVALID_ARGUMENT: You must feed a value for placeholder tensor 'gradients/split_1_grad/concat/split_1/split_dim' with dtype int32\n",
      "\t [[{{node gradients/split_1_grad/concat/split_1/split_dim}}]]\n",
      "2024-05-31 15:48:49.055172: I tensorflow/core/common_runtime/executor.cc:1197] [/device:CPU:0] (DEBUG INFO) Executor start aborting (this does not indicate an error and you can ignore this message): INVALID_ARGUMENT: You must feed a value for placeholder tensor 'gradients/split_2_grad/concat/split_2/split_dim' with dtype int32\n",
      "\t [[{{node gradients/split_2_grad/concat/split_2/split_dim}}]]\n",
      "2024-05-31 15:48:49.058225: I tensorflow/core/common_runtime/executor.cc:1197] [/device:CPU:0] (DEBUG INFO) Executor start aborting (this does not indicate an error and you can ignore this message): INVALID_ARGUMENT: You must feed a value for placeholder tensor 'gradients/split_grad/concat/split/split_dim' with dtype int32\n",
      "\t [[{{node gradients/split_grad/concat/split/split_dim}}]]\n",
      "2024-05-31 15:48:49.060782: I tensorflow/core/common_runtime/executor.cc:1197] [/device:CPU:0] (DEBUG INFO) Executor start aborting (this does not indicate an error and you can ignore this message): INVALID_ARGUMENT: You must feed a value for placeholder tensor 'gradients/split_1_grad/concat/split_1/split_dim' with dtype int32\n",
      "\t [[{{node gradients/split_1_grad/concat/split_1/split_dim}}]]\n",
      "2024-05-31 15:48:49.268946: I tensorflow/core/common_runtime/executor.cc:1197] [/device:CPU:0] (DEBUG INFO) Executor start aborting (this does not indicate an error and you can ignore this message): INVALID_ARGUMENT: You must feed a value for placeholder tensor 'gradients/ReverseV2_grad/ReverseV2/ReverseV2/axis' with dtype int32 and shape [1]\n",
      "\t [[{{node gradients/ReverseV2_grad/ReverseV2/ReverseV2/axis}}]]\n",
      "2024-05-31 15:48:49.345898: I tensorflow/core/common_runtime/executor.cc:1197] [/device:CPU:0] (DEBUG INFO) Executor start aborting (this does not indicate an error and you can ignore this message): INVALID_ARGUMENT: You must feed a value for placeholder tensor 'gradients/split_2_grad/concat/split_2/split_dim' with dtype int32\n",
      "\t [[{{node gradients/split_2_grad/concat/split_2/split_dim}}]]\n",
      "2024-05-31 15:48:49.347961: I tensorflow/core/common_runtime/executor.cc:1197] [/device:CPU:0] (DEBUG INFO) Executor start aborting (this does not indicate an error and you can ignore this message): INVALID_ARGUMENT: You must feed a value for placeholder tensor 'gradients/split_grad/concat/split/split_dim' with dtype int32\n",
      "\t [[{{node gradients/split_grad/concat/split/split_dim}}]]\n",
      "2024-05-31 15:48:49.349948: I tensorflow/core/common_runtime/executor.cc:1197] [/device:CPU:0] (DEBUG INFO) Executor start aborting (this does not indicate an error and you can ignore this message): INVALID_ARGUMENT: You must feed a value for placeholder tensor 'gradients/split_1_grad/concat/split_1/split_dim' with dtype int32\n",
      "\t [[{{node gradients/split_1_grad/concat/split_1/split_dim}}]]\n"
     ]
    },
    {
     "name": "stdout",
     "output_type": "stream",
     "text": [
      "\n",
      "Epoch 1: val_accuracy improved from -inf to 0.36366, saving model to best_model.h5\n",
      "122/122 [==============================] - 77s 551ms/step - loss: 2.1036 - accuracy: 0.3601 - val_loss: 1.6025 - val_accuracy: 0.3637\n",
      "Epoch 2/40\n",
      "122/122 [==============================] - ETA: 0s - loss: 1.4228 - accuracy: 0.4092\n",
      "Epoch 2: val_accuracy improved from 0.36366 to 0.40728, saving model to best_model.h5\n",
      "122/122 [==============================] - 61s 499ms/step - loss: 1.4228 - accuracy: 0.4092 - val_loss: 1.3877 - val_accuracy: 0.4073\n",
      "Epoch 3/40\n",
      "122/122 [==============================] - ETA: 0s - loss: 1.2836 - accuracy: 0.4563\n",
      "Epoch 3: val_accuracy improved from 0.40728 to 0.45869, saving model to best_model.h5\n",
      "122/122 [==============================] - 57s 468ms/step - loss: 1.2836 - accuracy: 0.4563 - val_loss: 1.2613 - val_accuracy: 0.4587\n",
      "Epoch 4/40\n",
      "122/122 [==============================] - ETA: 0s - loss: 1.1689 - accuracy: 0.5042\n",
      "Epoch 4: val_accuracy improved from 0.45869 to 0.48642, saving model to best_model.h5\n",
      "122/122 [==============================] - 58s 472ms/step - loss: 1.1689 - accuracy: 0.5042 - val_loss: 1.1910 - val_accuracy: 0.4864\n",
      "Epoch 5/40\n",
      "122/122 [==============================] - ETA: 0s - loss: 1.0856 - accuracy: 0.5399\n",
      "Epoch 5: val_accuracy improved from 0.48642 to 0.55026, saving model to best_model.h5\n",
      "122/122 [==============================] - 57s 464ms/step - loss: 1.0856 - accuracy: 0.5399 - val_loss: 1.0712 - val_accuracy: 0.5503\n",
      "Epoch 6/40\n",
      "122/122 [==============================] - ETA: 0s - loss: 0.9484 - accuracy: 0.6078\n",
      "Epoch 6: val_accuracy improved from 0.55026 to 0.58868, saving model to best_model.h5\n",
      "122/122 [==============================] - 56s 456ms/step - loss: 0.9484 - accuracy: 0.6078 - val_loss: 0.9495 - val_accuracy: 0.5887\n",
      "Epoch 7/40\n",
      "122/122 [==============================] - ETA: 0s - loss: 0.8524 - accuracy: 0.6447\n",
      "Epoch 7: val_accuracy improved from 0.58868 to 0.62738, saving model to best_model.h5\n",
      "122/122 [==============================] - 53s 433ms/step - loss: 0.8524 - accuracy: 0.6447 - val_loss: 0.8937 - val_accuracy: 0.6274\n",
      "Epoch 8/40\n",
      "122/122 [==============================] - ETA: 0s - loss: 0.7921 - accuracy: 0.6801\n",
      "Epoch 8: val_accuracy improved from 0.62738 to 0.62912, saving model to best_model.h5\n",
      "122/122 [==============================] - 53s 436ms/step - loss: 0.7921 - accuracy: 0.6801 - val_loss: 0.8886 - val_accuracy: 0.6291\n",
      "Epoch 9/40\n",
      "122/122 [==============================] - ETA: 0s - loss: 0.7346 - accuracy: 0.7062\n",
      "Epoch 9: val_accuracy improved from 0.62912 to 0.64125, saving model to best_model.h5\n",
      "122/122 [==============================] - 53s 438ms/step - loss: 0.7346 - accuracy: 0.7062 - val_loss: 0.8625 - val_accuracy: 0.6412\n",
      "Epoch 10/40\n",
      "122/122 [==============================] - ETA: 0s - loss: 0.6741 - accuracy: 0.7375\n",
      "Epoch 10: val_accuracy improved from 0.64125 to 0.68342, saving model to best_model.h5\n",
      "122/122 [==============================] - 51s 416ms/step - loss: 0.6741 - accuracy: 0.7375 - val_loss: 0.8056 - val_accuracy: 0.6834\n",
      "Epoch 11/40\n",
      "122/122 [==============================] - ETA: 0s - loss: 0.6100 - accuracy: 0.7720\n",
      "Epoch 11: val_accuracy improved from 0.68342 to 0.70220, saving model to best_model.h5\n",
      "122/122 [==============================] - 50s 409ms/step - loss: 0.6100 - accuracy: 0.7720 - val_loss: 0.7659 - val_accuracy: 0.7022\n",
      "Epoch 12/40\n",
      "122/122 [==============================] - ETA: 0s - loss: 0.5649 - accuracy: 0.7934\n",
      "Epoch 12: val_accuracy improved from 0.70220 to 0.71519, saving model to best_model.h5\n",
      "122/122 [==============================] - 51s 418ms/step - loss: 0.5649 - accuracy: 0.7934 - val_loss: 0.7424 - val_accuracy: 0.7152\n",
      "Epoch 13/40\n",
      "122/122 [==============================] - ETA: 0s - loss: 0.5257 - accuracy: 0.8139\n",
      "Epoch 13: val_accuracy improved from 0.71519 to 0.73484, saving model to best_model.h5\n",
      "122/122 [==============================] - 50s 412ms/step - loss: 0.5257 - accuracy: 0.8139 - val_loss: 0.7178 - val_accuracy: 0.7348\n",
      "Epoch 14/40\n",
      "122/122 [==============================] - ETA: 0s - loss: 0.4889 - accuracy: 0.8303\n",
      "Epoch 14: val_accuracy improved from 0.73484 to 0.74668, saving model to best_model.h5\n",
      "122/122 [==============================] - 49s 399ms/step - loss: 0.4889 - accuracy: 0.8303 - val_loss: 0.6970 - val_accuracy: 0.7467\n",
      "Epoch 15/40\n",
      "122/122 [==============================] - ETA: 0s - loss: 0.4304 - accuracy: 0.8572\n",
      "Epoch 15: val_accuracy improved from 0.74668 to 0.76401, saving model to best_model.h5\n",
      "122/122 [==============================] - 49s 402ms/step - loss: 0.4304 - accuracy: 0.8572 - val_loss: 0.6652 - val_accuracy: 0.7640\n",
      "Epoch 16/40\n",
      "122/122 [==============================] - ETA: 0s - loss: 0.3803 - accuracy: 0.8778\n",
      "Epoch 16: val_accuracy improved from 0.76401 to 0.78047, saving model to best_model.h5\n",
      "122/122 [==============================] - 50s 409ms/step - loss: 0.3803 - accuracy: 0.8778 - val_loss: 0.6562 - val_accuracy: 0.7805\n",
      "Epoch 17/40\n",
      "122/122 [==============================] - ETA: 0s - loss: 0.3502 - accuracy: 0.8897\n",
      "Epoch 17: val_accuracy did not improve from 0.78047\n",
      "122/122 [==============================] - 43s 348ms/step - loss: 0.3502 - accuracy: 0.8897 - val_loss: 0.6712 - val_accuracy: 0.7718\n",
      "Epoch 18/40\n",
      "122/122 [==============================] - ETA: 0s - loss: 0.3240 - accuracy: 0.8994\n",
      "Epoch 18: val_accuracy improved from 0.78047 to 0.80445, saving model to best_model.h5\n",
      "122/122 [==============================] - 49s 398ms/step - loss: 0.3240 - accuracy: 0.8994 - val_loss: 0.5829 - val_accuracy: 0.8044\n",
      "Epoch 19/40\n",
      "122/122 [==============================] - ETA: 0s - loss: 0.2865 - accuracy: 0.9118\n",
      "Epoch 19: val_accuracy did not improve from 0.80445\n",
      "122/122 [==============================] - 43s 355ms/step - loss: 0.2865 - accuracy: 0.9118 - val_loss: 0.6204 - val_accuracy: 0.8036\n",
      "Epoch 20/40\n",
      "122/122 [==============================] - ETA: 0s - loss: 0.2463 - accuracy: 0.9268\n",
      "Epoch 20: val_accuracy improved from 0.80445 to 0.81023, saving model to best_model.h5\n",
      "122/122 [==============================] - 50s 408ms/step - loss: 0.2463 - accuracy: 0.9268 - val_loss: 0.6107 - val_accuracy: 0.8102\n",
      "Epoch 21/40\n",
      "122/122 [==============================] - ETA: 0s - loss: 0.2447 - accuracy: 0.9271\n",
      "Epoch 21: val_accuracy did not improve from 0.81023\n",
      "122/122 [==============================] - 41s 336ms/step - loss: 0.2447 - accuracy: 0.9271 - val_loss: 0.6223 - val_accuracy: 0.8036\n",
      "Epoch 22/40\n",
      "122/122 [==============================] - ETA: 0s - loss: 0.2116 - accuracy: 0.9398\n",
      "Epoch 22: val_accuracy improved from 0.81023 to 0.83391, saving model to best_model.h5\n",
      "122/122 [==============================] - 49s 405ms/step - loss: 0.2116 - accuracy: 0.9398 - val_loss: 0.5642 - val_accuracy: 0.8339\n",
      "Epoch 23/40\n",
      "122/122 [==============================] - ETA: 0s - loss: 0.1945 - accuracy: 0.9444\n",
      "Epoch 23: val_accuracy improved from 0.83391 to 0.83853, saving model to best_model.h5\n",
      "122/122 [==============================] - 49s 401ms/step - loss: 0.1945 - accuracy: 0.9444 - val_loss: 0.5547 - val_accuracy: 0.8385\n",
      "Epoch 24/40\n",
      "122/122 [==============================] - ETA: 0s - loss: 0.1788 - accuracy: 0.9487\n",
      "Epoch 24: val_accuracy improved from 0.83853 to 0.84200, saving model to best_model.h5\n",
      "122/122 [==============================] - 50s 407ms/step - loss: 0.1788 - accuracy: 0.9487 - val_loss: 0.5577 - val_accuracy: 0.8420\n",
      "Epoch 25/40\n",
      "122/122 [==============================] - ETA: 0s - loss: 0.1798 - accuracy: 0.9488\n",
      "Epoch 25: val_accuracy did not improve from 0.84200\n",
      "122/122 [==============================] - 42s 343ms/step - loss: 0.1798 - accuracy: 0.9488 - val_loss: 0.5433 - val_accuracy: 0.8400\n",
      "Epoch 26/40\n",
      "122/122 [==============================] - ETA: 0s - loss: 0.1652 - accuracy: 0.9535\n",
      "Epoch 26: val_accuracy did not improve from 0.84200\n",
      "122/122 [==============================] - 43s 351ms/step - loss: 0.1652 - accuracy: 0.9535 - val_loss: 0.5659 - val_accuracy: 0.8420\n",
      "Epoch 27/40\n",
      "122/122 [==============================] - ETA: 0s - loss: 0.1657 - accuracy: 0.9532\n",
      "Epoch 27: val_accuracy improved from 0.84200 to 0.84951, saving model to best_model.h5\n",
      "122/122 [==============================] - 49s 399ms/step - loss: 0.1657 - accuracy: 0.9532 - val_loss: 0.5329 - val_accuracy: 0.8495\n",
      "Epoch 28/40\n",
      "122/122 [==============================] - ETA: 0s - loss: 0.1562 - accuracy: 0.9554\n",
      "Epoch 28: val_accuracy improved from 0.84951 to 0.85471, saving model to best_model.h5\n",
      "122/122 [==============================] - 49s 401ms/step - loss: 0.1562 - accuracy: 0.9554 - val_loss: 0.5408 - val_accuracy: 0.8547\n",
      "Epoch 29/40\n",
      "122/122 [==============================] - ETA: 0s - loss: 0.1279 - accuracy: 0.9668\n",
      "Epoch 29: val_accuracy improved from 0.85471 to 0.86164, saving model to best_model.h5\n",
      "122/122 [==============================] - 49s 399ms/step - loss: 0.1279 - accuracy: 0.9668 - val_loss: 0.5101 - val_accuracy: 0.8616\n",
      "Epoch 30/40\n",
      "122/122 [==============================] - ETA: 0s - loss: 0.1266 - accuracy: 0.9672\n",
      "Epoch 30: val_accuracy improved from 0.86164 to 0.86193, saving model to best_model.h5\n",
      "122/122 [==============================] - 49s 400ms/step - loss: 0.1266 - accuracy: 0.9672 - val_loss: 0.5198 - val_accuracy: 0.8619\n",
      "Epoch 31/40\n",
      "122/122 [==============================] - ETA: 0s - loss: 0.1213 - accuracy: 0.9697\n",
      "Epoch 31: val_accuracy did not improve from 0.86193\n",
      "122/122 [==============================] - 42s 347ms/step - loss: 0.1213 - accuracy: 0.9697 - val_loss: 0.5520 - val_accuracy: 0.8556\n",
      "Epoch 32/40\n",
      "122/122 [==============================] - ETA: 0s - loss: 0.1177 - accuracy: 0.9685\n",
      "Epoch 32: val_accuracy did not improve from 0.86193\n",
      "122/122 [==============================] - 43s 347ms/step - loss: 0.1177 - accuracy: 0.9685 - val_loss: 0.6072 - val_accuracy: 0.8385\n",
      "Epoch 33/40\n",
      "122/122 [==============================] - ETA: 0s - loss: 0.1165 - accuracy: 0.9687\n",
      "Epoch 33: val_accuracy did not improve from 0.86193\n",
      "122/122 [==============================] - 43s 348ms/step - loss: 0.1165 - accuracy: 0.9687 - val_loss: 0.5322 - val_accuracy: 0.8588\n",
      "Epoch 34/40\n",
      "122/122 [==============================] - ETA: 0s - loss: 0.1068 - accuracy: 0.9723\n",
      "Epoch 34: val_accuracy did not improve from 0.86193\n",
      "122/122 [==============================] - 41s 337ms/step - loss: 0.1068 - accuracy: 0.9723 - val_loss: 0.5406 - val_accuracy: 0.8573\n",
      "Epoch 35/40\n",
      "122/122 [==============================] - ETA: 0s - loss: 0.1045 - accuracy: 0.9729\n",
      "Epoch 35: val_accuracy did not improve from 0.86193\n",
      "122/122 [==============================] - 41s 338ms/step - loss: 0.1045 - accuracy: 0.9729 - val_loss: 0.5448 - val_accuracy: 0.8616\n",
      "Epoch 36/40\n",
      "122/122 [==============================] - ETA: 0s - loss: 0.0919 - accuracy: 0.9770\n",
      "Epoch 36: val_accuracy improved from 0.86193 to 0.87233, saving model to best_model.h5\n",
      "122/122 [==============================] - 48s 394ms/step - loss: 0.0919 - accuracy: 0.9770 - val_loss: 0.5185 - val_accuracy: 0.8723\n",
      "Epoch 37/40\n",
      "122/122 [==============================] - ETA: 0s - loss: 0.1013 - accuracy: 0.9745\n",
      "Epoch 37: val_accuracy improved from 0.87233 to 0.87435, saving model to best_model.h5\n",
      "122/122 [==============================] - 48s 392ms/step - loss: 0.1013 - accuracy: 0.9745 - val_loss: 0.5133 - val_accuracy: 0.8744\n",
      "Epoch 38/40\n",
      "122/122 [==============================] - ETA: 0s - loss: 0.0926 - accuracy: 0.9770\n",
      "Epoch 38: val_accuracy did not improve from 0.87435\n",
      "122/122 [==============================] - 41s 335ms/step - loss: 0.0926 - accuracy: 0.9770 - val_loss: 0.5756 - val_accuracy: 0.8625\n",
      "Epoch 39/40\n",
      "122/122 [==============================] - ETA: 0s - loss: 0.0801 - accuracy: 0.9808\n",
      "Epoch 39: val_accuracy did not improve from 0.87435\n",
      "122/122 [==============================] - 42s 341ms/step - loss: 0.0801 - accuracy: 0.9808 - val_loss: 0.5538 - val_accuracy: 0.8631\n",
      "Epoch 40/40\n",
      "122/122 [==============================] - ETA: 0s - loss: 0.0775 - accuracy: 0.9820\n",
      "Epoch 40: val_accuracy improved from 0.87435 to 0.87579, saving model to best_model.h5\n",
      "122/122 [==============================] - 49s 402ms/step - loss: 0.0775 - accuracy: 0.9820 - val_loss: 0.5281 - val_accuracy: 0.8758\n"
     ]
    }
   ],
   "source": [
    "tf.keras.backend.clear_session()\n",
    "\n",
    "history = model.fit(dataset, epochs=40, validation_data=val_dataset, callbacks=[checkpoint_callback])"
   ]
  },
  {
   "cell_type": "code",
   "execution_count": null,
   "id": "294e94ef-8870-48c0-bd60-aa430ed6e079",
   "metadata": {
    "tags": []
   },
   "outputs": [
    {
     "data": {
      "image/png": "[encoded data removed]",
      "text/plain": [
       "<Figure size 640x480 with 1 Axes>"
      ]
     },
     "metadata": {},
     "output_type": "display_data"
    },
    {
     "data": {
      "image/png": "[encoded data removed]",
      "text/plain": [
       "<Figure size 640x480 with 1 Axes>"
      ]
     },
     "metadata": {},
     "output_type": "display_data"
    }
   ],
   "source": [
    "import matplotlib.pyplot as plt\n",
    "\n",
    "# Plot utility\n",
    "def plot_graphs(history, string):\n",
    "  plt.plot(history.history[string])\n",
    "  plt.plot(history.history['val_'+string])\n",
    "  plt.xlabel(\"Epochs\")\n",
    "  plt.ylabel(string)\n",
    "  plt.legend([string, 'val_'+string])\n",
    "  plt.show()\n",
    "\n",
    "# Plot the accuracy and results \n",
    "plot_graphs(history, \"accuracy\")\n",
    "plot_graphs(history, \"loss\")"
   ]
  },
  {
   "cell_type": "code",
   "execution_count": null,
   "id": "466ebb23-69c5-470c-be67-cf66f7968509",
   "metadata": {
    "tags": []
   },
   "outputs": [
    {
     "name": "stderr",
     "output_type": "stream",
     "text": [
      "2024-05-31 16:21:24.892312: I tensorflow/core/common_runtime/executor.cc:1197] [/device:CPU:0] (DEBUG INFO) Executor start aborting (this does not indicate an error and you can ignore this message): INVALID_ARGUMENT: You must feed a value for placeholder tensor 'gradients/split_2_grad/concat/split_2/split_dim' with dtype int32\n",
      "\t [[{{node gradients/split_2_grad/concat/split_2/split_dim}}]]\n",
      "2024-05-31 16:21:24.894966: I tensorflow/core/common_runtime/executor.cc:1197] [/device:CPU:0] (DEBUG INFO) Executor start aborting (this does not indicate an error and you can ignore this message): INVALID_ARGUMENT: You must feed a value for placeholder tensor 'gradients/split_grad/concat/split/split_dim' with dtype int32\n",
      "\t [[{{node gradients/split_grad/concat/split/split_dim}}]]\n",
      "2024-05-31 16:21:24.897335: I tensorflow/core/common_runtime/executor.cc:1197] [/device:CPU:0] (DEBUG INFO) Executor start aborting (this does not indicate an error and you can ignore this message): INVALID_ARGUMENT: You must feed a value for placeholder tensor 'gradients/split_1_grad/concat/split_1/split_dim' with dtype int32\n",
      "\t [[{{node gradients/split_1_grad/concat/split_1/split_dim}}]]\n",
      "2024-05-31 16:21:25.093183: I tensorflow/core/common_runtime/executor.cc:1197] [/device:CPU:0] (DEBUG INFO) Executor start aborting (this does not indicate an error and you can ignore this message): INVALID_ARGUMENT: You must feed a value for placeholder tensor 'gradients/ReverseV2_grad/ReverseV2/ReverseV2/axis' with dtype int32 and shape [1]\n",
      "\t [[{{node gradients/ReverseV2_grad/ReverseV2/ReverseV2/axis}}]]\n",
      "2024-05-31 16:21:25.166265: I tensorflow/core/common_runtime/executor.cc:1197] [/device:CPU:0] (DEBUG INFO) Executor start aborting (this does not indicate an error and you can ignore this message): INVALID_ARGUMENT: You must feed a value for placeholder tensor 'gradients/split_2_grad/concat/split_2/split_dim' with dtype int32\n",
      "\t [[{{node gradients/split_2_grad/concat/split_2/split_dim}}]]\n",
      "2024-05-31 16:21:25.168907: I tensorflow/core/common_runtime/executor.cc:1197] [/device:CPU:0] (DEBUG INFO) Executor start aborting (this does not indicate an error and you can ignore this message): INVALID_ARGUMENT: You must feed a value for placeholder tensor 'gradients/split_grad/concat/split/split_dim' with dtype int32\n",
      "\t [[{{node gradients/split_grad/concat/split/split_dim}}]]\n",
      "2024-05-31 16:21:25.170978: I tensorflow/core/common_runtime/executor.cc:1197] [/device:CPU:0] (DEBUG INFO) Executor start aborting (this does not indicate an error and you can ignore this message): INVALID_ARGUMENT: You must feed a value for placeholder tensor 'gradients/split_1_grad/concat/split_1/split_dim' with dtype int32\n",
      "\t [[{{node gradients/split_1_grad/concat/split_1/split_dim}}]]\n",
      "2024-05-31 16:21:25.456766: I tensorflow/core/common_runtime/executor.cc:1197] [/device:CPU:0] (DEBUG INFO) Executor start aborting (this does not indicate an error and you can ignore this message): INVALID_ARGUMENT: You must feed a value for placeholder tensor 'gradients/split_2_grad/concat/split_2/split_dim' with dtype int32\n",
      "\t [[{{node gradients/split_2_grad/concat/split_2/split_dim}}]]\n",
      "2024-05-31 16:21:25.459748: I tensorflow/core/common_runtime/executor.cc:1197] [/device:CPU:0] (DEBUG INFO) Executor start aborting (this does not indicate an error and you can ignore this message): INVALID_ARGUMENT: You must feed a value for placeholder tensor 'gradients/split_grad/concat/split/split_dim' with dtype int32\n",
      "\t [[{{node gradients/split_grad/concat/split/split_dim}}]]\n",
      "2024-05-31 16:21:25.462761: I tensorflow/core/common_runtime/executor.cc:1197] [/device:CPU:0] (DEBUG INFO) Executor start aborting (this does not indicate an error and you can ignore this message): INVALID_ARGUMENT: You must feed a value for placeholder tensor 'gradients/split_1_grad/concat/split_1/split_dim' with dtype int32\n",
      "\t [[{{node gradients/split_1_grad/concat/split_1/split_dim}}]]\n",
      "2024-05-31 16:21:25.663867: I tensorflow/core/common_runtime/executor.cc:1197] [/device:CPU:0] (DEBUG INFO) Executor start aborting (this does not indicate an error and you can ignore this message): INVALID_ARGUMENT: You must feed a value for placeholder tensor 'gradients/ReverseV2_grad/ReverseV2/ReverseV2/axis' with dtype int32 and shape [1]\n",
      "\t [[{{node gradients/ReverseV2_grad/ReverseV2/ReverseV2/axis}}]]\n",
      "2024-05-31 16:21:25.732475: I tensorflow/core/common_runtime/executor.cc:1197] [/device:CPU:0] (DEBUG INFO) Executor start aborting (this does not indicate an error and you can ignore this message): INVALID_ARGUMENT: You must feed a value for placeholder tensor 'gradients/split_2_grad/concat/split_2/split_dim' with dtype int32\n",
      "\t [[{{node gradients/split_2_grad/concat/split_2/split_dim}}]]\n",
      "2024-05-31 16:21:25.734619: I tensorflow/core/common_runtime/executor.cc:1197] [/device:CPU:0] (DEBUG INFO) Executor start aborting (this does not indicate an error and you can ignore this message): INVALID_ARGUMENT: You must feed a value for placeholder tensor 'gradients/split_grad/concat/split/split_dim' with dtype int32\n",
      "\t [[{{node gradients/split_grad/concat/split/split_dim}}]]\n",
      "2024-05-31 16:21:25.737265: I tensorflow/core/common_runtime/executor.cc:1197] [/device:CPU:0] (DEBUG INFO) Executor start aborting (this does not indicate an error and you can ignore this message): INVALID_ARGUMENT: You must feed a value for placeholder tensor 'gradients/split_1_grad/concat/split_1/split_dim' with dtype int32\n",
      "\t [[{{node gradients/split_1_grad/concat/split_1/split_dim}}]]\n"
     ]
    },
    {
     "name": "stdout",
     "output_type": "stream",
     "text": [
      "WARNING:tensorflow:Error in loading the saved optimizer state. As a result, your model is starting with a freshly initialized optimizer.\n"
     ]
    }
   ],
   "source": [
    "best_model = tf.keras.models.load_model('best_model.h5')"
   ]
  },
  {
   "cell_type": "code",
   "execution_count": null,
   "id": "c771cd11-b203-4732-869e-1bea895b6f83",
   "metadata": {},
   "outputs": [
    {
     "data": {
      "text/html": [
       "<div>\n",
       "<style scoped>\n",
       "    .dataframe tbody tr th:only-of-type {\n",
       "        vertical-align: middle;\n",
       "    }\n",
       "\n",
       "    .dataframe tbody tr th {\n",
       "        vertical-align: top;\n",
       "    }\n",
       "\n",
       "    .dataframe thead th {\n",
       "        text-align: right;\n",
       "    }\n",
       "</style>\n",
       "<table border=\"1\" class=\"dataframe\">\n",
       "  <thead>\n",
       "    <tr style=\"text-align: right;\">\n",
       "      <th></th>\n",
       "      <th>essay_id</th>\n",
       "      <th>full_text</th>\n",
       "    </tr>\n",
       "  </thead>\n",
       "  <tbody>\n",
       "    <tr>\n",
       "      <th>0</th>\n",
       "      <td>000d118</td>\n",
       "      <td>Many people have car where they live. The thin...</td>\n",
       "    </tr>\n",
       "    <tr>\n",
       "      <th>1</th>\n",
       "      <td>000fe60</td>\n",
       "      <td>I am a scientist at NASA that is discussing th...</td>\n",
       "    </tr>\n",
       "    <tr>\n",
       "      <th>2</th>\n",
       "      <td>001ab80</td>\n",
       "      <td>People always wish they had the same technolog...</td>\n",
       "    </tr>\n",
       "  </tbody>\n",
       "</table>\n",
       "</div>"
      ],
      "text/plain": [
       "  essay_id                                          full_text\n",
       "0  000d118  Many people have car where they live. The thin...\n",
       "1  000fe60  I am a scientist at NASA that is discussing th...\n",
       "2  001ab80  People always wish they had the same technolog..."
      ]
     },
     "execution_count": 67,
     "metadata": {},
     "output_type": "execute_result"
    }
   ],
   "source": [
    "df_test = pd.read_csv('test.csv')\n",
    "df_test.head()"
   ]
  },
  {
   "cell_type": "code",
   "execution_count": null,
   "id": "e6e3bea0-5e59-489b-97a7-5032c13cb23d",
   "metadata": {
    "tags": []
   },
   "outputs": [],
   "source": [
    "pred_texts = df_test['full_text'].tolist()\n",
    "tokenized_pred_texts = [tokenizer.encode(pred_text).ids for pred_text in pred_texts]\n",
    "padded_pred_texts = pad_sequences(tokenized_pred_texts, maxlen=max_length, padding='post')\n",
    "numpy_pred_texts = np.array(padded_pred_texts)"
   ]
  },
  {
   "cell_type": "code",
   "execution_count": null,
   "id": "78d97c90-82ab-4147-878b-d74a95e01e78",
   "metadata": {
    "tags": []
   },
   "outputs": [
    {
     "name": "stderr",
     "output_type": "stream",
     "text": [
      "2024-05-31 16:21:27.629854: I tensorflow/core/common_runtime/executor.cc:1197] [/device:CPU:0] (DEBUG INFO) Executor start aborting (this does not indicate an error and you can ignore this message): INVALID_ARGUMENT: You must feed a value for placeholder tensor 'gradients/split_2_grad/concat/split_2/split_dim' with dtype int32\n",
      "\t [[{{node gradients/split_2_grad/concat/split_2/split_dim}}]]\n",
      "2024-05-31 16:21:27.632521: I tensorflow/core/common_runtime/executor.cc:1197] [/device:CPU:0] (DEBUG INFO) Executor start aborting (this does not indicate an error and you can ignore this message): INVALID_ARGUMENT: You must feed a value for placeholder tensor 'gradients/split_grad/concat/split/split_dim' with dtype int32\n",
      "\t [[{{node gradients/split_grad/concat/split/split_dim}}]]\n",
      "2024-05-31 16:21:27.634532: I tensorflow/core/common_runtime/executor.cc:1197] [/device:CPU:0] (DEBUG INFO) Executor start aborting (this does not indicate an error and you can ignore this message): INVALID_ARGUMENT: You must feed a value for placeholder tensor 'gradients/split_1_grad/concat/split_1/split_dim' with dtype int32\n",
      "\t [[{{node gradients/split_1_grad/concat/split_1/split_dim}}]]\n",
      "2024-05-31 16:21:27.823244: I tensorflow/core/common_runtime/executor.cc:1197] [/device:CPU:0] (DEBUG INFO) Executor start aborting (this does not indicate an error and you can ignore this message): INVALID_ARGUMENT: You must feed a value for placeholder tensor 'gradients/ReverseV2_grad/ReverseV2/ReverseV2/axis' with dtype int32 and shape [1]\n",
      "\t [[{{node gradients/ReverseV2_grad/ReverseV2/ReverseV2/axis}}]]\n",
      "2024-05-31 16:21:27.895603: I tensorflow/core/common_runtime/executor.cc:1197] [/device:CPU:0] (DEBUG INFO) Executor start aborting (this does not indicate an error and you can ignore this message): INVALID_ARGUMENT: You must feed a value for placeholder tensor 'gradients/split_2_grad/concat/split_2/split_dim' with dtype int32\n",
      "\t [[{{node gradients/split_2_grad/concat/split_2/split_dim}}]]\n",
      "2024-05-31 16:21:27.898238: I tensorflow/core/common_runtime/executor.cc:1197] [/device:CPU:0] (DEBUG INFO) Executor start aborting (this does not indicate an error and you can ignore this message): INVALID_ARGUMENT: You must feed a value for placeholder tensor 'gradients/split_grad/concat/split/split_dim' with dtype int32\n",
      "\t [[{{node gradients/split_grad/concat/split/split_dim}}]]\n",
      "2024-05-31 16:21:27.900442: I tensorflow/core/common_runtime/executor.cc:1197] [/device:CPU:0] (DEBUG INFO) Executor start aborting (this does not indicate an error and you can ignore this message): INVALID_ARGUMENT: You must feed a value for placeholder tensor 'gradients/split_1_grad/concat/split_1/split_dim' with dtype int32\n",
      "\t [[{{node gradients/split_1_grad/concat/split_1/split_dim}}]]\n",
      "2024-05-31 16:21:28.169904: I tensorflow/core/common_runtime/executor.cc:1197] [/device:CPU:0] (DEBUG INFO) Executor start aborting (this does not indicate an error and you can ignore this message): INVALID_ARGUMENT: You must feed a value for placeholder tensor 'gradients/split_2_grad/concat/split_2/split_dim' with dtype int32\n",
      "\t [[{{node gradients/split_2_grad/concat/split_2/split_dim}}]]\n",
      "2024-05-31 16:21:28.172545: I tensorflow/core/common_runtime/executor.cc:1197] [/device:CPU:0] (DEBUG INFO) Executor start aborting (this does not indicate an error and you can ignore this message): INVALID_ARGUMENT: You must feed a value for placeholder tensor 'gradients/split_grad/concat/split/split_dim' with dtype int32\n",
      "\t [[{{node gradients/split_grad/concat/split/split_dim}}]]\n",
      "2024-05-31 16:21:28.174589: I tensorflow/core/common_runtime/executor.cc:1197] [/device:CPU:0] (DEBUG INFO) Executor start aborting (this does not indicate an error and you can ignore this message): INVALID_ARGUMENT: You must feed a value for placeholder tensor 'gradients/split_1_grad/concat/split_1/split_dim' with dtype int32\n",
      "\t [[{{node gradients/split_1_grad/concat/split_1/split_dim}}]]\n",
      "2024-05-31 16:21:28.370364: I tensorflow/core/common_runtime/executor.cc:1197] [/device:CPU:0] (DEBUG INFO) Executor start aborting (this does not indicate an error and you can ignore this message): INVALID_ARGUMENT: You must feed a value for placeholder tensor 'gradients/ReverseV2_grad/ReverseV2/ReverseV2/axis' with dtype int32 and shape [1]\n",
      "\t [[{{node gradients/ReverseV2_grad/ReverseV2/ReverseV2/axis}}]]\n",
      "2024-05-31 16:21:28.442379: I tensorflow/core/common_runtime/executor.cc:1197] [/device:CPU:0] (DEBUG INFO) Executor start aborting (this does not indicate an error and you can ignore this message): INVALID_ARGUMENT: You must feed a value for placeholder tensor 'gradients/split_2_grad/concat/split_2/split_dim' with dtype int32\n",
      "\t [[{{node gradients/split_2_grad/concat/split_2/split_dim}}]]\n",
      "2024-05-31 16:21:28.445145: I tensorflow/core/common_runtime/executor.cc:1197] [/device:CPU:0] (DEBUG INFO) Executor start aborting (this does not indicate an error and you can ignore this message): INVALID_ARGUMENT: You must feed a value for placeholder tensor 'gradients/split_grad/concat/split/split_dim' with dtype int32\n",
      "\t [[{{node gradients/split_grad/concat/split/split_dim}}]]\n",
      "2024-05-31 16:21:28.447245: I tensorflow/core/common_runtime/executor.cc:1197] [/device:CPU:0] (DEBUG INFO) Executor start aborting (this does not indicate an error and you can ignore this message): INVALID_ARGUMENT: You must feed a value for placeholder tensor 'gradients/split_1_grad/concat/split_1/split_dim' with dtype int32\n",
      "\t [[{{node gradients/split_1_grad/concat/split_1/split_dim}}]]\n"
     ]
    },
    {
     "name": "stdout",
     "output_type": "stream",
     "text": [
      "1/1 [==============================] - 2s 2s/step\n"
     ]
    },
    {
     "data": {
      "text/plain": [
       "array([[1.043e-05, 3.719e-03, 9.956e-01, 6.723e-04, 4.351e-06, 9.537e-07],\n",
       "       [3.493e-05, 6.084e-03, 9.932e-01, 8.965e-04, 3.874e-06, 1.311e-06],\n",
       "       [1.693e-05, 1.597e-04, 1.493e-03, 9.941e-01, 4.059e-03, 1.489e-04]],\n",
       "      dtype=float16)"
      ]
     },
     "execution_count": 69,
     "metadata": {},
     "output_type": "execute_result"
    }
   ],
   "source": [
    "preds = best_model.predict(numpy_pred_texts)\n",
    "preds"
   ]
  },
  {
   "cell_type": "code",
   "execution_count": null,
   "id": "8bdf9c9a-dda8-4e49-a22d-c7082ae508c1",
   "metadata": {
    "tags": []
   },
   "outputs": [
    {
     "data": {
      "text/plain": [
       "array([3, 3, 4])"
      ]
     },
     "execution_count": 70,
     "metadata": {},
     "output_type": "execute_result"
    }
   ],
   "source": [
    "max_preds = np.argmax(preds, axis=1)\n",
    "res_lst = max_preds + 1\n",
    "res_lst"
   ]
  },
  {
   "cell_type": "code",
   "execution_count": null,
   "id": "60e1d109-fe6c-4462-b1f4-73d33c94ed98",
   "metadata": {
    "tags": []
   },
   "outputs": [
    {
     "data": {
      "text/html": [
       "<div>\n",
       "<style scoped>\n",
       "    .dataframe tbody tr th:only-of-type {\n",
       "        vertical-align: middle;\n",
       "    }\n",
       "\n",
       "    .dataframe tbody tr th {\n",
       "        vertical-align: top;\n",
       "    }\n",
       "\n",
       "    .dataframe thead th {\n",
       "        text-align: right;\n",
       "    }\n",
       "</style>\n",
       "<table border=\"1\" class=\"dataframe\">\n",
       "  <thead>\n",
       "    <tr style=\"text-align: right;\">\n",
       "      <th></th>\n",
       "      <th>essay_id</th>\n",
       "    </tr>\n",
       "  </thead>\n",
       "  <tbody>\n",
       "    <tr>\n",
       "      <th>0</th>\n",
       "      <td>000d118</td>\n",
       "    </tr>\n",
       "    <tr>\n",
       "      <th>1</th>\n",
       "      <td>000fe60</td>\n",
       "    </tr>\n",
       "    <tr>\n",
       "      <th>2</th>\n",
       "      <td>001ab80</td>\n",
       "    </tr>\n",
       "  </tbody>\n",
       "</table>\n",
       "</div>"
      ],
      "text/plain": [
       "  essay_id\n",
       "0  000d118\n",
       "1  000fe60\n",
       "2  001ab80"
      ]
     },
     "execution_count": 71,
     "metadata": {},
     "output_type": "execute_result"
    }
   ],
   "source": [
    "df_sub = pd.DataFrame()\n",
    "df_sub['essay_id'] = df_test['essay_id']\n",
    "df_sub"
   ]
  },
  {
   "cell_type": "code",
   "execution_count": null,
   "id": "eaedfb33-d729-4abf-a25b-a2612e8e3868",
   "metadata": {
    "tags": []
   },
   "outputs": [
    {
     "data": {
      "text/html": [
       "<div>\n",
       "<style scoped>\n",
       "    .dataframe tbody tr th:only-of-type {\n",
       "        vertical-align: middle;\n",
       "    }\n",
       "\n",
       "    .dataframe tbody tr th {\n",
       "        vertical-align: top;\n",
       "    }\n",
       "\n",
       "    .dataframe thead th {\n",
       "        text-align: right;\n",
       "    }\n",
       "</style>\n",
       "<table border=\"1\" class=\"dataframe\">\n",
       "  <thead>\n",
       "    <tr style=\"text-align: right;\">\n",
       "      <th></th>\n",
       "      <th>essay_id</th>\n",
       "      <th>score</th>\n",
       "    </tr>\n",
       "  </thead>\n",
       "  <tbody>\n",
       "    <tr>\n",
       "      <th>0</th>\n",
       "      <td>000d118</td>\n",
       "      <td>3</td>\n",
       "    </tr>\n",
       "    <tr>\n",
       "      <th>1</th>\n",
       "      <td>000fe60</td>\n",
       "      <td>3</td>\n",
       "    </tr>\n",
       "    <tr>\n",
       "      <th>2</th>\n",
       "      <td>001ab80</td>\n",
       "      <td>4</td>\n",
       "    </tr>\n",
       "  </tbody>\n",
       "</table>\n",
       "</div>"
      ],
      "text/plain": [
       "  essay_id  score\n",
       "0  000d118      3\n",
       "1  000fe60      3\n",
       "2  001ab80      4"
      ]
     },
     "execution_count": 72,
     "metadata": {},
     "output_type": "execute_result"
    }
   ],
   "source": [
    "df_sub['score'] = res_lst.transpose()\n",
    "df_sub['score'] = df_sub['score'].astype('int')\n",
    "df_sub"
   ]
  },
  {
   "cell_type": "code",
   "execution_count": null,
   "id": "c80b3ef3-452c-48c5-9dd2-1336d5f054c2",
   "metadata": {
    "tags": []
   },
   "outputs": [],
   "source": [
    "df_sub.to_csv('submission.csv', header=True, index=False)"
   ]
  },
  {
   "cell_type": "code",
   "execution_count": null,
   "id": "d399d056-6ad6-48f3-bdd3-150cf25d97ca",
   "metadata": {
    "tags": []
   },
   "outputs": [
    {
     "name": "stdout",
     "output_type": "stream",
     "text": [
      "2024-05-31 16:21:29.861830\n"
     ]
    }
   ],
   "source": [
    "import gc\n",
    "\n",
    "gc.collect()\n",
    "\n",
    "end = datetime.now()\n",
    "print(end)"
   ]
  }
 ],
 "metadata": {
  "kernelspec": {
   "display_name": "TensorFlow 2.12 (Local)",
   "language": "python",
   "name": "tf2-2-12"
  },
  "language_info": {
   "codemirror_mode": {
    "name": "ipython",
    "version": 3
   },
   "file_extension": ".py",
   "mimetype": "text/x-python",
   "name": "python",
   "nbconvert_exporter": "python",
   "pygments_lexer": "ipython3",
   "version": "3.10.14"
  }
 },
 "nbformat": 4,
 "nbformat_minor": 5
}
